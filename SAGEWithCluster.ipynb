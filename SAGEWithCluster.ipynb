{
 "cells": [
  {
   "cell_type": "code",
   "execution_count": 1,
   "id": "5cf0e3ed",
   "metadata": {},
   "outputs": [],
   "source": [
    "import os\n",
    "import os.path as osp\n",
    "\n",
    "import time\n",
    "import os, mmap\n",
    "import torch\n",
    "from torch_geometric.data import Data\n",
    "import torch.nn.functional as F\n",
    "from torch_geometric.nn import GCNConv, GATConv\n",
    "from torch_geometric.utils import add_self_loops\n",
    "from sklearn.manifold import TSNE\n",
    "import numpy as np\n",
    "from torch_geometric.datasets import Planetoid\n",
    "import nvsmi\n",
    "import threading\n",
    "import psutil"
   ]
  },
  {
   "cell_type": "markdown",
   "id": "e04bf217",
   "metadata": {},
   "source": [
    "# Test system evaluation index"
   ]
  },
  {
   "cell_type": "code",
   "execution_count": 3,
   "id": "01234e20",
   "metadata": {},
   "outputs": [],
   "source": [
    "import nvsmi\n",
    "import threading\n",
    "import psutil\n",
    "import os\n",
    "import os.path as osp\n",
    "\n",
    "\n",
    "disk_io_counter = psutil.disk_io_counters()\n",
    "disk_total = disk_io_counter[2] + disk_io_counter[3]  # read_bytes + write_bytes\n",
    "p = psutil.Process(os.getpid())\n",
    "group_mem_rss = []\n",
    "group_disk_usage = []\n",
    "group_iowait = []\n",
    "t_status = True\n",
    "\n",
    "def get_gpu_info():\n",
    "    while True:\n",
    "        if not t_status:\n",
    "            break\n",
    "        group_mem_rss.append(psutil.Process(os.getpid()).memory_info().rss)\n",
    "        io_counters = p.io_counters()\n",
    "        disk_usage = io_counters[2] + io_counters[3]\n",
    "        group_disk_usage.append(disk_usage)  # read_bytes + write_bytes\n",
    "        try:\n",
    "            a = psutil.cpu_times_percent().iowait\n",
    "        except:\n",
    "            a = 0\n",
    "        group_iowait.append(a)\n",
    "#         print(f\"{disk_usage / 1024 / 1024} Mb/s\")\n",
    "#         time.sleep(0.09)"
   ]
  },
  {
   "cell_type": "markdown",
   "id": "47426ee2",
   "metadata": {},
   "source": [
    "# Loading data and sampling"
   ]
  },
  {
   "cell_type": "code",
   "execution_count": 4,
   "id": "35bcab65",
   "metadata": {},
   "outputs": [
    {
     "name": "stdout",
     "output_type": "stream",
     "text": [
      "Cora()\n",
      "NeighborSampler time:0.44434523582458496\n",
      "内存使用：4.5272 GB\n",
      "磁盘IO使用：11.3440 GB/s\n",
      "磁盘IO使用率：2.6147%\n",
      "cpu iowait：0.0\n"
     ]
    }
   ],
   "source": [
    "from torch_geometric.datasets import Planetoid\n",
    "from torch_geometric.datasets import Reddit\n",
    "import torch\n",
    "from torch_geometric.loader import NeighborSampler\n",
    "# from NS import NeighborSampler\n",
    "import torch\n",
    "import torch.nn as nn\n",
    "import torch.nn.functional as F\n",
    "from torch_geometric.nn import GCNConv\n",
    "from SAGEConv import SAGEConv\n",
    "from tqdm import tqdm\n",
    "import torch.optim as optim\n",
    "import numpy as np\n",
    "import time\n",
    "\n",
    "# from torch.utils.data import DataLoader\n",
    "\n",
    "dataset = Planetoid(root='./cora/', name='Cora')\n",
    "# dataset = Planetoid(root='./citeseer',name='Citeseer')\n",
    "# dataset = Planetoid(root='./pubmed/',name='Pubmed')\n",
    "# dataset = Reddit(root='./reddit/')\n",
    "print(dataset)\n",
    "\n",
    "start_time = time.time()\n",
    "t = threading.Thread(target=get_gpu_info)\n",
    "t.start()\n",
    "train_loader = NeighborSampler(dataset[0].edge_index, node_idx=dataset[0].train_mask,\n",
    "                               sizes=[10, 10], batch_size=128, shuffle=True,\n",
    "                               num_workers=8,pin_memory=True)\n",
    "t_status = False\n",
    "t.join()\n",
    "\n",
    "# # Reddit\n",
    "# train_loader = NeighborSampler(dataset[0].edge_index, node_idx=dataset[0].train_mask,\n",
    "#                                sizes=[25, 10], batch_size=1024, shuffle=True,\n",
    "#                                num_workers=8,pin_memory=True)\n",
    "\n",
    "end_time = time.time()\n",
    "init_sample_time = end_time - start_time\n",
    "print('NeighborSampler time:{}'.format(end_time - start_time))\n",
    "print(f'内存使用：{np.mean(group_mem_rss) / 1024 / 1024 / 1024:.4f} GB')\n",
    "print(f'磁盘IO使用：{np.mean(group_disk_usage) / 1024 / 1024 / 1024:.4f} GB/s')\n",
    "print(f'磁盘IO使用率：{np.mean(group_disk_usage) * 100 / disk_total:.4f}%')\n",
    "print(f'cpu iowait：{np.mean(group_iowait)}')\n",
    "\n",
    "\n",
    "subgraph_loader = NeighborSampler(dataset[0].edge_index, node_idx=None, sizes=[-1],\n",
    "                                  batch_size=1024, shuffle=False,\n",
    "                                  num_workers=8)"
   ]
  },
  {
   "cell_type": "markdown",
   "id": "f4044260",
   "metadata": {},
   "source": [
    "# Traning"
   ]
  },
  {
   "cell_type": "code",
   "execution_count": 5,
   "id": "e38db462",
   "metadata": {},
   "outputs": [
    {
     "name": "stdout",
     "output_type": "stream",
     "text": [
      "SAGENet(\n",
      "  (convs): ModuleList(\n",
      "    (0): SAGEConv(1433, 16)\n",
      "    (1): SAGEConv(16, 7)\n",
      "  )\n",
      ")\n",
      "cuda\n",
      "Data(x=[2708, 1433], edge_index=[2, 10556], y=[2708], train_mask=[2708], val_mask=[2708], test_mask=[2708])\n"
     ]
    },
    {
     "name": "stderr",
     "output_type": "stream",
     "text": [
      "\n",
      "  0%|                                                                                          | 0/140 [00:00<?, ?it/s]\u001b[A\n",
      "Epoch 01:   0%|                                                                                | 0/140 [00:00<?, ?it/s]\u001b[A\n",
      "Epoch 01:  91%|████████████████████████████████████████████████████████████████      | 128/140 [00:10<00:00, 12.58it/s]\u001b[A\n",
      "Epoch 01: 100%|██████████████████████████████████████████████████████████████████████| 140/140 [00:13<00:00, 10.41it/s]\u001b[A\n"
     ]
    },
    {
     "name": "stdout",
     "output_type": "stream",
     "text": [
      "Epoch 01, Loss: 1.9128, Approx. Train: 0.1714\n"
     ]
    },
    {
     "name": "stderr",
     "output_type": "stream",
     "text": [
      "\n",
      "  0%|                                                                                         | 0/5416 [00:00<?, ?it/s]\u001b[A\n",
      "Evaluating:   0%|                                                                             | 0/5416 [00:00<?, ?it/s]\u001b[A\n",
      "Evaluating:  19%|████████████▎                                                    | 1024/5416 [00:04<00:16, 266.15it/s]\u001b[A\n",
      "Evaluating:  38%|████████████████████████▌                                        | 2048/5416 [00:04<00:07, 479.61it/s]\u001b[A\n",
      "Evaluating:  50%|████████████████████████████████▌                                | 2708/5416 [00:05<00:04, 560.57it/s]\u001b[A\n",
      "Evaluating:  69%|████████████████████████████████████████████▊                    | 3732/5416 [00:10<00:04, 356.72it/s]\u001b[A\n",
      "Evaluating:  88%|█████████████████████████████████████████████████████████        | 4756/5416 [00:10<00:01, 476.98it/s]\u001b[A\n",
      "Evaluating: 100%|█████████████████████████████████████████████████████████████████| 5416/5416 [00:12<00:00, 424.34it/s]\u001b[A\n"
     ]
    },
    {
     "name": "stdout",
     "output_type": "stream",
     "text": [
      "Train: 0.5214, Val: 0.4020, Test: 0.4270\n"
     ]
    },
    {
     "name": "stderr",
     "output_type": "stream",
     "text": [
      "\n",
      "  0%|                                                                                          | 0/140 [00:00<?, ?it/s]\u001b[A\n",
      "Epoch 02:   0%|                                                                                | 0/140 [00:00<?, ?it/s]\u001b[A\n",
      "Epoch 02:  91%|████████████████████████████████████████████████████████████████      | 128/140 [00:05<00:00, 25.44it/s]\u001b[A\n",
      "Epoch 02: 100%|██████████████████████████████████████████████████████████████████████| 140/140 [00:08<00:00, 16.51it/s]\u001b[A\n"
     ]
    },
    {
     "name": "stdout",
     "output_type": "stream",
     "text": [
      "Epoch 02, Loss: 1.7054, Approx. Train: 0.4643\n"
     ]
    },
    {
     "name": "stderr",
     "output_type": "stream",
     "text": [
      "\n",
      "  0%|                                                                                         | 0/5416 [00:00<?, ?it/s]\u001b[A\n",
      "Evaluating:   0%|                                                                             | 0/5416 [00:00<?, ?it/s]\u001b[A\n",
      "Evaluating:  19%|████████████▎                                                    | 1024/5416 [00:03<00:16, 273.22it/s]\u001b[A\n",
      "Evaluating:  38%|████████████████████████▌                                        | 2048/5416 [00:04<00:07, 472.78it/s]\u001b[A\n",
      "Evaluating:  50%|████████████████████████████████▌                                | 2708/5416 [00:05<00:04, 562.20it/s]\u001b[A\n",
      "Evaluating:  69%|████████████████████████████████████████████▊                    | 3732/5416 [00:10<00:04, 337.68it/s]\u001b[A\n",
      "Evaluating:  88%|█████████████████████████████████████████████████████████        | 4756/5416 [00:11<00:01, 451.21it/s]\u001b[A\n",
      "Evaluating: 100%|█████████████████████████████████████████████████████████████████| 5416/5416 [00:13<00:00, 409.14it/s]\u001b[A\n"
     ]
    },
    {
     "name": "stdout",
     "output_type": "stream",
     "text": [
      "Train: 0.9143, Val: 0.6000, Test: 0.5960\n"
     ]
    },
    {
     "name": "stderr",
     "output_type": "stream",
     "text": [
      "\n",
      "  0%|                                                                                          | 0/140 [00:00<?, ?it/s]\u001b[A\n",
      "Epoch 03:   0%|                                                                                | 0/140 [00:00<?, ?it/s]\u001b[A\n",
      "Epoch 03:  91%|████████████████████████████████████████████████████████████████      | 128/140 [00:05<00:00, 22.67it/s]\u001b[A\n",
      "Epoch 03: 100%|██████████████████████████████████████████████████████████████████████| 140/140 [00:09<00:00, 15.45it/s]\u001b[A\n"
     ]
    },
    {
     "name": "stdout",
     "output_type": "stream",
     "text": [
      "Epoch 03, Loss: 1.3141, Approx. Train: 0.7357\n"
     ]
    },
    {
     "name": "stderr",
     "output_type": "stream",
     "text": [
      "\n",
      "  0%|                                                                                         | 0/5416 [00:00<?, ?it/s]\u001b[A\n",
      "Evaluating:   0%|                                                                             | 0/5416 [00:00<?, ?it/s]\u001b[A\n",
      "Evaluating:  19%|████████████▎                                                    | 1024/5416 [00:03<00:16, 272.40it/s]\u001b[A\n",
      "Evaluating:  38%|████████████████████████▌                                        | 2048/5416 [00:04<00:06, 482.84it/s]\u001b[A\n",
      "Evaluating:  50%|████████████████████████████████▌                                | 2708/5416 [00:05<00:04, 576.18it/s]\u001b[A\n",
      "Evaluating:  69%|████████████████████████████████████████████▊                    | 3732/5416 [00:10<00:05, 322.33it/s]\u001b[A\n",
      "Evaluating:  88%|█████████████████████████████████████████████████████████        | 4756/5416 [00:11<00:01, 440.36it/s]\u001b[A\n",
      "Evaluating: 100%|█████████████████████████████████████████████████████████████████| 5416/5416 [00:13<00:00, 405.24it/s]\u001b[A\n"
     ]
    },
    {
     "name": "stdout",
     "output_type": "stream",
     "text": [
      "Train: 0.9643, Val: 0.6300, Test: 0.6580\n"
     ]
    },
    {
     "name": "stderr",
     "output_type": "stream",
     "text": [
      "\n",
      "  0%|                                                                                          | 0/140 [00:00<?, ?it/s]\u001b[A\n",
      "Epoch 04:   0%|                                                                                | 0/140 [00:00<?, ?it/s]\u001b[A\n",
      "Epoch 04:  91%|████████████████████████████████████████████████████████████████      | 128/140 [00:06<00:00, 22.10it/s]\u001b[A\n",
      "Epoch 04: 100%|██████████████████████████████████████████████████████████████████████| 140/140 [00:09<00:00, 14.58it/s]\u001b[A\n"
     ]
    },
    {
     "name": "stdout",
     "output_type": "stream",
     "text": [
      "Epoch 04, Loss: 1.0634, Approx. Train: 0.8643\n"
     ]
    },
    {
     "name": "stderr",
     "output_type": "stream",
     "text": [
      "\n",
      "  0%|                                                                                         | 0/5416 [00:00<?, ?it/s]\u001b[A\n",
      "Evaluating:   0%|                                                                             | 0/5416 [00:00<?, ?it/s]\u001b[A\n",
      "Evaluating:  19%|████████████▎                                                    | 1024/5416 [00:04<00:17, 253.17it/s]\u001b[A\n",
      "Evaluating:  38%|████████████████████████▌                                        | 2048/5416 [00:04<00:06, 527.41it/s]\u001b[A\n",
      "Evaluating:  69%|████████████████████████████████████████████▊                    | 3732/5416 [00:09<00:03, 423.88it/s]\u001b[A\n",
      "Evaluating:  88%|█████████████████████████████████████████████████████████        | 4756/5416 [00:10<00:01, 533.46it/s]\u001b[A\n",
      "Evaluating: 100%|█████████████████████████████████████████████████████████████████| 5416/5416 [00:11<00:00, 457.41it/s]\u001b[A\n"
     ]
    },
    {
     "name": "stdout",
     "output_type": "stream",
     "text": [
      "Train: 0.9714, Val: 0.6580, Test: 0.6810\n"
     ]
    },
    {
     "name": "stderr",
     "output_type": "stream",
     "text": [
      "\n",
      "  0%|                                                                                          | 0/140 [00:00<?, ?it/s]\u001b[A\n",
      "Epoch 05:   0%|                                                                                | 0/140 [00:00<?, ?it/s]\u001b[A\n",
      "Epoch 05:  91%|████████████████████████████████████████████████████████████████      | 128/140 [00:05<00:00, 23.19it/s]\u001b[A\n",
      "Epoch 05: 100%|██████████████████████████████████████████████████████████████████████| 140/140 [00:09<00:00, 15.05it/s]\u001b[A\n"
     ]
    },
    {
     "name": "stdout",
     "output_type": "stream",
     "text": [
      "Epoch 05, Loss: 0.9102, Approx. Train: 0.8500\n"
     ]
    },
    {
     "name": "stderr",
     "output_type": "stream",
     "text": [
      "\n",
      "  0%|                                                                                         | 0/5416 [00:00<?, ?it/s]\u001b[A\n",
      "Evaluating:   0%|                                                                             | 0/5416 [00:00<?, ?it/s]\u001b[A\n",
      "Evaluating:  19%|████████████▎                                                    | 1024/5416 [00:04<00:17, 250.00it/s]\u001b[A\n",
      "Evaluating:  38%|████████████████████████▌                                        | 2048/5416 [00:05<00:07, 458.69it/s]\u001b[A\n",
      "Evaluating:  50%|████████████████████████████████▌                                | 2708/5416 [00:05<00:04, 546.33it/s]\u001b[A\n",
      "Evaluating:  69%|████████████████████████████████████████████▊                    | 3732/5416 [00:10<00:05, 326.41it/s]\u001b[A\n",
      "Evaluating:  88%|█████████████████████████████████████████████████████████        | 4756/5416 [00:11<00:01, 438.48it/s]\u001b[A\n",
      "Evaluating: 100%|█████████████████████████████████████████████████████████████████| 5416/5416 [00:13<00:00, 399.43it/s]\u001b[A\n"
     ]
    },
    {
     "name": "stdout",
     "output_type": "stream",
     "text": [
      "Train: 0.9714, Val: 0.6860, Test: 0.7110\n"
     ]
    },
    {
     "name": "stderr",
     "output_type": "stream",
     "text": [
      "\n",
      "  0%|                                                                                          | 0/140 [00:00<?, ?it/s]\u001b[A\n",
      "Epoch 06:   0%|                                                                                | 0/140 [00:00<?, ?it/s]\u001b[A\n",
      "Epoch 06:  91%|████████████████████████████████████████████████████████████████      | 128/140 [00:05<00:00, 22.61it/s]\u001b[A\n",
      "Epoch 06: 100%|██████████████████████████████████████████████████████████████████████| 140/140 [00:09<00:00, 15.31it/s]\u001b[A\n"
     ]
    },
    {
     "name": "stdout",
     "output_type": "stream",
     "text": [
      "Epoch 06, Loss: 0.7168, Approx. Train: 0.9071\n"
     ]
    },
    {
     "name": "stderr",
     "output_type": "stream",
     "text": [
      "\n",
      "  0%|                                                                                         | 0/5416 [00:00<?, ?it/s]\u001b[A\n",
      "Evaluating:   0%|                                                                             | 0/5416 [00:00<?, ?it/s]\u001b[A\n",
      "Evaluating:  19%|████████████▎                                                    | 1024/5416 [00:03<00:15, 276.26it/s]\u001b[A\n",
      "Evaluating:  38%|████████████████████████▌                                        | 2048/5416 [00:04<00:06, 483.76it/s]\u001b[A\n",
      "Evaluating:  50%|████████████████████████████████▌                                | 2708/5416 [00:05<00:04, 600.03it/s]\u001b[A\n",
      "Evaluating:  69%|████████████████████████████████████████████▊                    | 3732/5416 [00:10<00:05, 334.30it/s]\u001b[A\n",
      "Evaluating:  88%|█████████████████████████████████████████████████████████        | 4756/5416 [00:11<00:01, 474.57it/s]\u001b[A\n",
      "Evaluating: 100%|█████████████████████████████████████████████████████████████████| 5416/5416 [00:13<00:00, 405.45it/s]\u001b[A\n"
     ]
    },
    {
     "name": "stdout",
     "output_type": "stream",
     "text": [
      "Train: 0.9857, Val: 0.6900, Test: 0.7160\n"
     ]
    },
    {
     "name": "stderr",
     "output_type": "stream",
     "text": [
      "\n",
      "  0%|                                                                                          | 0/140 [00:00<?, ?it/s]\u001b[A\n",
      "Epoch 07:   0%|                                                                                | 0/140 [00:00<?, ?it/s]\u001b[A\n",
      "Epoch 07:  91%|████████████████████████████████████████████████████████████████      | 128/140 [00:06<00:00, 19.84it/s]\u001b[A\n",
      "Epoch 07: 100%|██████████████████████████████████████████████████████████████████████| 140/140 [00:09<00:00, 14.04it/s]\u001b[A\n"
     ]
    },
    {
     "name": "stdout",
     "output_type": "stream",
     "text": [
      "Epoch 07, Loss: 0.4234, Approx. Train: 0.8857\n"
     ]
    },
    {
     "name": "stderr",
     "output_type": "stream",
     "text": [
      "\n",
      "  0%|                                                                                         | 0/5416 [00:00<?, ?it/s]\u001b[A\n",
      "Evaluating:   0%|                                                                             | 0/5416 [00:00<?, ?it/s]\u001b[A\n",
      "Evaluating:  19%|████████████▎                                                    | 1024/5416 [00:03<00:14, 298.14it/s]\u001b[A\n",
      "Evaluating:  38%|████████████████████████▌                                        | 2048/5416 [00:04<00:06, 520.71it/s]\u001b[A\n",
      "Evaluating:  69%|████████████████████████████████████████████▊                    | 3732/5416 [00:09<00:04, 391.16it/s]\u001b[A\n",
      "Evaluating:  88%|█████████████████████████████████████████████████████████        | 4756/5416 [00:10<00:01, 507.70it/s]\u001b[A\n",
      "Evaluating: 100%|█████████████████████████████████████████████████████████████████| 5416/5416 [00:12<00:00, 447.25it/s]\u001b[A\n"
     ]
    },
    {
     "name": "stdout",
     "output_type": "stream",
     "text": [
      "Train: 0.9857, Val: 0.6840, Test: 0.7060\n"
     ]
    },
    {
     "name": "stderr",
     "output_type": "stream",
     "text": [
      "\n",
      "  0%|                                                                                          | 0/140 [00:00<?, ?it/s]\u001b[A\n",
      "Epoch 08:   0%|                                                                                | 0/140 [00:00<?, ?it/s]\u001b[A\n",
      "Epoch 08:  91%|████████████████████████████████████████████████████████████████      | 128/140 [00:05<00:00, 23.23it/s]\u001b[A\n",
      "Epoch 08: 100%|██████████████████████████████████████████████████████████████████████| 140/140 [00:09<00:00, 15.25it/s]\u001b[A\n"
     ]
    },
    {
     "name": "stdout",
     "output_type": "stream",
     "text": [
      "Epoch 08, Loss: 0.3568, Approx. Train: 0.8929\n"
     ]
    },
    {
     "name": "stderr",
     "output_type": "stream",
     "text": [
      "\n",
      "  0%|                                                                                         | 0/5416 [00:00<?, ?it/s]\u001b[A\n",
      "Evaluating:   0%|                                                                             | 0/5416 [00:00<?, ?it/s]\u001b[A\n",
      "Evaluating:  19%|████████████▎                                                    | 1024/5416 [00:04<00:16, 260.04it/s]\u001b[A\n",
      "Evaluating:  38%|████████████████████████▌                                        | 2048/5416 [00:04<00:06, 495.50it/s]\u001b[A\n",
      "Evaluating:  50%|████████████████████████████████▌                                | 2708/5416 [00:05<00:04, 566.46it/s]\u001b[A\n",
      "Evaluating:  69%|████████████████████████████████████████████▊                    | 3732/5416 [00:10<00:05, 330.28it/s]\u001b[A\n",
      "Evaluating:  88%|█████████████████████████████████████████████████████████        | 4756/5416 [00:11<00:01, 449.21it/s]\u001b[A\n",
      "Evaluating: 100%|█████████████████████████████████████████████████████████████████| 5416/5416 [00:12<00:00, 418.11it/s]\u001b[A\n"
     ]
    },
    {
     "name": "stdout",
     "output_type": "stream",
     "text": [
      "Train: 0.9929, Val: 0.6880, Test: 0.7140\n"
     ]
    },
    {
     "name": "stderr",
     "output_type": "stream",
     "text": [
      "\n",
      "  0%|                                                                                          | 0/140 [00:00<?, ?it/s]\u001b[A\n",
      "Epoch 09:   0%|                                                                                | 0/140 [00:00<?, ?it/s]\u001b[A\n",
      "Epoch 09:  91%|████████████████████████████████████████████████████████████████      | 128/140 [00:05<00:00, 22.22it/s]\u001b[A\n",
      "Epoch 09: 100%|██████████████████████████████████████████████████████████████████████| 140/140 [00:09<00:00, 15.44it/s]\u001b[A\n"
     ]
    },
    {
     "name": "stdout",
     "output_type": "stream",
     "text": [
      "Epoch 09, Loss: 0.2688, Approx. Train: 0.9643\n"
     ]
    },
    {
     "name": "stderr",
     "output_type": "stream",
     "text": [
      "\n",
      "  0%|                                                                                         | 0/5416 [00:00<?, ?it/s]\u001b[A\n",
      "Evaluating:   0%|                                                                             | 0/5416 [00:00<?, ?it/s]\u001b[A\n",
      "Evaluating:  19%|████████████▎                                                    | 1024/5416 [00:03<00:15, 279.40it/s]\u001b[A\n",
      "Evaluating:  38%|████████████████████████▌                                        | 2048/5416 [00:04<00:06, 515.41it/s]\u001b[A\n",
      "Evaluating:  50%|████████████████████████████████▌                                | 2708/5416 [00:05<00:04, 600.10it/s]\u001b[A\n",
      "Evaluating:  69%|████████████████████████████████████████████▊                    | 3732/5416 [00:10<00:05, 330.89it/s]\u001b[A\n",
      "Evaluating:  88%|█████████████████████████████████████████████████████████        | 4756/5416 [00:11<00:01, 437.38it/s]\u001b[A\n",
      "Evaluating: 100%|█████████████████████████████████████████████████████████████████| 5416/5416 [00:13<00:00, 414.28it/s]\u001b[A\n"
     ]
    },
    {
     "name": "stdout",
     "output_type": "stream",
     "text": [
      "Train: 0.9929, Val: 0.6900, Test: 0.7110\n"
     ]
    },
    {
     "name": "stderr",
     "output_type": "stream",
     "text": [
      "\n",
      "  0%|                                                                                          | 0/140 [00:00<?, ?it/s]\u001b[A\n",
      "Epoch 10:   0%|                                                                                | 0/140 [00:00<?, ?it/s]\u001b[A\n",
      "Epoch 10:  91%|████████████████████████████████████████████████████████████████      | 128/140 [00:05<00:00, 22.74it/s]\u001b[A\n",
      "Epoch 10: 100%|██████████████████████████████████████████████████████████████████████| 140/140 [00:08<00:00, 15.87it/s]\u001b[A\n"
     ]
    },
    {
     "name": "stdout",
     "output_type": "stream",
     "text": [
      "Epoch 10, Loss: 0.2162, Approx. Train: 0.9500\n"
     ]
    },
    {
     "name": "stderr",
     "output_type": "stream",
     "text": [
      "\n",
      "  0%|                                                                                         | 0/5416 [00:00<?, ?it/s]\u001b[A\n",
      "Evaluating:   0%|                                                                             | 0/5416 [00:00<?, ?it/s]\u001b[A\n",
      "Evaluating:  19%|████████████▎                                                    | 1024/5416 [00:03<00:15, 290.97it/s]\u001b[A\n",
      "Evaluating:  38%|████████████████████████▌                                        | 2048/5416 [00:04<00:06, 531.80it/s]\u001b[A\n",
      "Evaluating:  50%|████████████████████████████████▌                                | 2708/5416 [00:05<00:04, 587.04it/s]\u001b[A\n",
      "Evaluating:  69%|████████████████████████████████████████████▊                    | 3732/5416 [00:09<00:04, 350.77it/s]\u001b[A\n",
      "Evaluating:  88%|█████████████████████████████████████████████████████████        | 4756/5416 [00:10<00:01, 502.88it/s]\u001b[A\n",
      "Evaluating: 100%|█████████████████████████████████████████████████████████████████| 5416/5416 [00:12<00:00, 437.60it/s]\u001b[A\n"
     ]
    },
    {
     "name": "stdout",
     "output_type": "stream",
     "text": [
      "Train: 0.9929, Val: 0.7000, Test: 0.7210\n",
      "Average linear time: 216.61405563354492 ms\n",
      "Average message time: 0.0 ms\n",
      "Average aggregate time: 787.5793218612671 ms\n",
      "Average update time: 130.07795810699463 ms\n",
      "Average sample time: 3568.6318204402924 ms\n",
      "========================================================\n",
      "GPU 显存占用: 973.0Mb\n",
      "GPU 显存占用率: 11.87744140625%\n",
      "GPU 平均使用率: 0.0%\n"
     ]
    },
    {
     "ename": "AttributeError",
     "evalue": "'numpy.ndarray' object has no attribute 'storage'",
     "output_type": "error",
     "traceback": [
      "\u001b[1;31m---------------------------------------------------------------------------\u001b[0m",
      "\u001b[1;31mAttributeError\u001b[0m                            Traceback (most recent call last)",
      "\u001b[1;32m~\\AppData\\Local\\Temp/ipykernel_29048/1849924730.py\u001b[0m in \u001b[0;36m<module>\u001b[1;34m\u001b[0m\n\u001b[0;32m    225\u001b[0m \u001b[0mprint\u001b[0m\u001b[1;33m(\u001b[0m\u001b[1;34mf\"GPU 显存占用率: {np.mean(group_gpu_mem_use) * 100 / total_gpu_mem}%\"\u001b[0m\u001b[1;33m)\u001b[0m\u001b[1;33m\u001b[0m\u001b[1;33m\u001b[0m\u001b[0m\n\u001b[0;32m    226\u001b[0m \u001b[0mprint\u001b[0m\u001b[1;33m(\u001b[0m\u001b[1;34mf\"GPU 平均使用率: {np.mean(group_gpu_util) - start_gpu_util}%\"\u001b[0m\u001b[1;33m)\u001b[0m\u001b[1;33m\u001b[0m\u001b[1;33m\u001b[0m\u001b[0m\n\u001b[1;32m--> 227\u001b[1;33m \u001b[0mtmp_\u001b[0m \u001b[1;33m=\u001b[0m \u001b[0msum\u001b[0m\u001b[1;33m(\u001b[0m\u001b[0mnp\u001b[0m\u001b[1;33m.\u001b[0m\u001b[0mwhere\u001b[0m\u001b[1;33m(\u001b[0m\u001b[0mnp\u001b[0m\u001b[1;33m.\u001b[0m\u001b[0marray\u001b[0m\u001b[1;33m(\u001b[0m\u001b[0mgroup_gpu_util\u001b[0m\u001b[1;33m)\u001b[0m \u001b[1;33m-\u001b[0m \u001b[0mstart_gpu_util\u001b[0m \u001b[1;33m>\u001b[0m \u001b[1;36m1\u001b[0m\u001b[1;33m,\u001b[0m \u001b[1;32mTrue\u001b[0m\u001b[1;33m,\u001b[0m \u001b[1;32mFalse\u001b[0m\u001b[1;33m)\u001b[0m\u001b[1;33m)\u001b[0m\u001b[1;33m\u001b[0m\u001b[1;33m\u001b[0m\u001b[0m\n\u001b[0m\u001b[0;32m    228\u001b[0m \u001b[0mprint\u001b[0m\u001b[1;33m(\u001b[0m\u001b[1;34mf\"GPU 空闲率: {(len(group_gpu_util) - tmp_) * 100 / len(group_gpu_util)}%\"\u001b[0m\u001b[1;33m)\u001b[0m\u001b[1;33m\u001b[0m\u001b[1;33m\u001b[0m\u001b[0m\n\u001b[0;32m    229\u001b[0m \u001b[0mprint\u001b[0m\u001b[1;33m(\u001b[0m\u001b[1;34mf'内存使用：{np.mean(group_mem_rss) / 1024 / 1024 / 1024:.4f} GB'\u001b[0m\u001b[1;33m)\u001b[0m\u001b[1;33m\u001b[0m\u001b[1;33m\u001b[0m\u001b[0m\n",
      "\u001b[1;32mD:\\AnacondaSystem\\envs\\anlp_cw2\\lib\\site-packages\\torch_sparse\\reduce.py\u001b[0m in \u001b[0;36msum\u001b[1;34m(src, dim)\u001b[0m\n\u001b[0;32m     69\u001b[0m \u001b[1;33m\u001b[0m\u001b[0m\n\u001b[0;32m     70\u001b[0m \u001b[1;32mdef\u001b[0m \u001b[0msum\u001b[0m\u001b[1;33m(\u001b[0m\u001b[0msrc\u001b[0m\u001b[1;33m:\u001b[0m \u001b[0mSparseTensor\u001b[0m\u001b[1;33m,\u001b[0m \u001b[0mdim\u001b[0m\u001b[1;33m:\u001b[0m \u001b[0mOptional\u001b[0m\u001b[1;33m[\u001b[0m\u001b[0mint\u001b[0m\u001b[1;33m]\u001b[0m \u001b[1;33m=\u001b[0m \u001b[1;32mNone\u001b[0m\u001b[1;33m)\u001b[0m \u001b[1;33m->\u001b[0m \u001b[0mtorch\u001b[0m\u001b[1;33m.\u001b[0m\u001b[0mTensor\u001b[0m\u001b[1;33m:\u001b[0m\u001b[1;33m\u001b[0m\u001b[1;33m\u001b[0m\u001b[0m\n\u001b[1;32m---> 71\u001b[1;33m     \u001b[1;32mreturn\u001b[0m \u001b[0mreduction\u001b[0m\u001b[1;33m(\u001b[0m\u001b[0msrc\u001b[0m\u001b[1;33m,\u001b[0m \u001b[0mdim\u001b[0m\u001b[1;33m,\u001b[0m \u001b[0mreduce\u001b[0m\u001b[1;33m=\u001b[0m\u001b[1;34m'sum'\u001b[0m\u001b[1;33m)\u001b[0m\u001b[1;33m\u001b[0m\u001b[1;33m\u001b[0m\u001b[0m\n\u001b[0m\u001b[0;32m     72\u001b[0m \u001b[1;33m\u001b[0m\u001b[0m\n\u001b[0;32m     73\u001b[0m \u001b[1;33m\u001b[0m\u001b[0m\n",
      "\u001b[1;32mD:\\AnacondaSystem\\envs\\anlp_cw2\\lib\\site-packages\\torch_sparse\\reduce.py\u001b[0m in \u001b[0;36mreduction\u001b[1;34m(src, dim, reduce)\u001b[0m\n\u001b[0;32m      8\u001b[0m def reduction(src: SparseTensor, dim: Optional[int] = None,\n\u001b[0;32m      9\u001b[0m               reduce: str = 'sum') -> torch.Tensor:\n\u001b[1;32m---> 10\u001b[1;33m     \u001b[0mvalue\u001b[0m \u001b[1;33m=\u001b[0m \u001b[0msrc\u001b[0m\u001b[1;33m.\u001b[0m\u001b[0mstorage\u001b[0m\u001b[1;33m.\u001b[0m\u001b[0mvalue\u001b[0m\u001b[1;33m(\u001b[0m\u001b[1;33m)\u001b[0m\u001b[1;33m\u001b[0m\u001b[1;33m\u001b[0m\u001b[0m\n\u001b[0m\u001b[0;32m     11\u001b[0m \u001b[1;33m\u001b[0m\u001b[0m\n\u001b[0;32m     12\u001b[0m     \u001b[1;32mif\u001b[0m \u001b[0mdim\u001b[0m \u001b[1;32mis\u001b[0m \u001b[1;32mNone\u001b[0m\u001b[1;33m:\u001b[0m\u001b[1;33m\u001b[0m\u001b[1;33m\u001b[0m\u001b[0m\n",
      "\u001b[1;31mAttributeError\u001b[0m: 'numpy.ndarray' object has no attribute 'storage'"
     ]
    }
   ],
   "source": [
    "gpu_data = list(nvsmi.get_gpus())[0]\n",
    "start_gpu_util = gpu_data.gpu_util\n",
    "start_gpu_mem_use = gpu_data.mem_used\n",
    "total_gpu_mem = gpu_data.mem_total\n",
    "disk_io_counter = psutil.disk_io_counters()\n",
    "disk_total = disk_io_counter[2] + disk_io_counter[3]  # read_bytes + write_bytes\n",
    "p = psutil.Process(os.getpid())\n",
    "group_mem_rss = []\n",
    "group_gpu_util = []\n",
    "group_gpu_mem_use = []\n",
    "group_disk_usage = []\n",
    "group_iowait = []\n",
    "t_status = True\n",
    "\n",
    "def get_gpu_info():\n",
    "    gpu_data = list(nvsmi.get_gpus())[0]\n",
    "    while True:\n",
    "        if not t_status:\n",
    "            break\n",
    "        group_gpu_util.append(gpu_data.gpu_util)\n",
    "        group_gpu_mem_use.append(gpu_data.mem_used)\n",
    "        group_mem_rss.append(psutil.Process(os.getpid()).memory_info().rss)\n",
    "        io_counters = p.io_counters()\n",
    "        disk_usage = io_counters[2] + io_counters[3]\n",
    "        group_disk_usage.append(disk_usage)  # read_bytes + write_bytes\n",
    "        try:\n",
    "            a = psutil.cpu_times_percent().iowait\n",
    "        except:\n",
    "            a = 0\n",
    "        group_iowait.append(a)\n",
    "\n",
    "\n",
    "class SAGENet(torch.nn.Module):\n",
    "    def __init__(self, in_channels, hidden_channels, out_channels):\n",
    "        super(SAGENet, self).__init__()\n",
    "\n",
    "        self.num_layers = 2\n",
    "\n",
    "        self.convs = torch.nn.ModuleList()\n",
    "        self.convs.append(SAGEConv(in_channels, hidden_channels))\n",
    "        self.convs.append(SAGEConv(hidden_channels, out_channels))\n",
    "\n",
    "    def forward(self, x, adjs):\n",
    "        # `train_loader` computes the k-hop neighborhood of a batch of nodes,\n",
    "        # and returns, for each layer, a bipartite graph object, holding the\n",
    "        # bipartite edges `edge_index`, the index `e_id` of the original edges,\n",
    "        # and the size/shape `size` of the bipartite graph.\n",
    "        # Target nodes are also included in the source nodes so that one can\n",
    "        # easily apply skip-connections or add self-loops.\n",
    "\n",
    "        lin_times = 0\n",
    "        mes_times = 0\n",
    "        aggr_times = 0\n",
    "        up_times = 0\n",
    "\n",
    "        for i, (edge_index, _, size) in enumerate(adjs):\n",
    "            x_target = x[:size[1]]  # Target nodes are always placed first.\n",
    "            x, linear_time, message_time, aggregate_time, update_time = self.convs[i]((x, x_target), edge_index)\n",
    "            lin_times += linear_time\n",
    "            mes_times += message_time\n",
    "            aggr_times += aggregate_time\n",
    "            up_times += update_time\n",
    "            if i != self.num_layers - 1:\n",
    "                x = F.relu(x)\n",
    "                x = F.dropout(x, p=0.5, training=self.training)\n",
    "        return x.log_softmax(dim=-1), lin_times, mes_times, aggr_times, up_times\n",
    "\n",
    "    def inference(self, x_all):\n",
    "        pbar = tqdm(total=x_all.size(0) * self.num_layers)\n",
    "        pbar.set_description('Evaluating')\n",
    "\n",
    "        # Compute representations of nodes layer by layer, using *all*\n",
    "        # available edges. This leads to faster computation in contrast to\n",
    "        # immediately computing the final representations of each batch.\n",
    "        for i in range(self.num_layers):\n",
    "            xs = []\n",
    "            for batch_size, n_id, adj in subgraph_loader:\n",
    "                edge_index, _, size = adj.to(device)\n",
    "                x = x_all[n_id].to(device)\n",
    "                x_target = x[:size[1]]\n",
    "                x, linear_time, message_time, aggregate_time, update_time = self.convs[i]((x, x_target), edge_index)\n",
    "                if i != self.num_layers - 1:\n",
    "                    x = F.relu(x)\n",
    "                xs.append(x.cpu())\n",
    "\n",
    "                pbar.update(batch_size)\n",
    "\n",
    "            x_all = torch.cat(xs, dim=0)\n",
    "\n",
    "        pbar.close()\n",
    "\n",
    "        return x_all\n",
    "\n",
    "\n",
    "# cora\n",
    "model = SAGENet(dataset.num_features, 16, dataset.num_classes)\n",
    "\n",
    "# Reddit\n",
    "# model = SAGENet(dataset.num_features, 256, dataset.num_classes)\n",
    "print(model)\n",
    "\n",
    "device = torch.device('cuda' if torch.cuda.is_available() else 'cpu')\n",
    "print(device)\n",
    "model = model.cuda()\n",
    "model.to(device)\n",
    "data = dataset[0].to(device)\n",
    "print(data)\n",
    "\n",
    "x = data.x.to(device)\n",
    "y = data.y.squeeze().to(device)\n",
    "\n",
    "criterion = nn.NLLLoss().to(device)\n",
    "optimizer = optim.Adam(model.parameters(), lr=0.01, weight_decay=5e-4)\n",
    "\n",
    "\n",
    "def train(epoch):\n",
    "    model.train()\n",
    "\n",
    "    pbar = tqdm(total=int(data.train_mask.sum()))\n",
    "    pbar.set_description(f'Epoch {epoch:02d}')\n",
    "\n",
    "    total_lin_time = 0\n",
    "    total_mes_time = 0\n",
    "    total_aggr_time = 0\n",
    "    total_up_time = 0\n",
    "\n",
    "    total_sample_time = 0\n",
    "\n",
    "    total_loss = total_correct = 0\n",
    "    start_time = time.time()\n",
    "    for batch_size, n_id, adjs in train_loader:\n",
    "        # `adjs` holds a list of `(edge_index, e_id, size)` tuples.\n",
    "        end_time = time.time()\n",
    "        total_sample_time += (end_time - start_time)\n",
    "\n",
    "        adjs = [adj.to(device) for adj in adjs]\n",
    "\n",
    "        optimizer.zero_grad()\n",
    "        out, lin_time, mes_time, aggr_time, up_time = model(x[n_id], adjs)\n",
    "\n",
    "        total_lin_time += lin_time\n",
    "        total_mes_time += mes_time\n",
    "        total_aggr_time += aggr_time\n",
    "        total_up_time += up_time\n",
    "\n",
    "        loss = F.nll_loss(out, y[n_id[:batch_size]])\n",
    "        loss.backward()\n",
    "        optimizer.step()\n",
    "\n",
    "        total_loss += float(loss)\n",
    "        total_correct += int(out.argmax(dim=-1).eq(y[n_id[:batch_size]]).sum())\n",
    "        pbar.update(batch_size)\n",
    "        start_time = time.time()\n",
    "\n",
    "    pbar.close()\n",
    "\n",
    "    loss = total_loss / len(train_loader)\n",
    "    approx_acc = total_correct / int(data.train_mask.sum())\n",
    "\n",
    "    return loss, approx_acc, total_lin_time, total_mes_time, total_aggr_time, total_up_time, total_sample_time\n",
    "\n",
    "\n",
    "@torch.no_grad()\n",
    "def test():\n",
    "    model.eval()\n",
    "\n",
    "    out = model.inference(x)\n",
    "\n",
    "    y_true = y.cpu().unsqueeze(-1)\n",
    "    y_pred = out.argmax(dim=-1, keepdim=True)\n",
    "\n",
    "    results = []\n",
    "    for mask in [data.train_mask, data.val_mask, data.test_mask]:\n",
    "        results += [int(y_pred[mask].eq(y_true[mask]).sum()) / int(mask.sum())]\n",
    "\n",
    "    return results\n",
    "\n",
    "# def test():  # Inference should be performed on the full graph.\n",
    "#     model.eval()\n",
    "\n",
    "#     out = model.inference(data.x)\n",
    "#     y_pred = out.argmax(dim=-1)\n",
    "\n",
    "#     accs = []\n",
    "#     for mask in [data.train_mask, data.val_mask, data.test_mask]:\n",
    "#         correct = y_pred[mask].eq(data.y[mask]).sum().item()\n",
    "#         accs.append(correct / mask.sum().item())\n",
    "    return accs\n",
    "\n",
    "\n",
    "lin_times = []\n",
    "mes_times = []\n",
    "aggr_times = []\n",
    "up_times = []\n",
    "sample_times = []\n",
    "\n",
    "start_time = time.time()\n",
    "for epoch in range(1, 11):\n",
    "    if epoch == 1:\n",
    "        t = threading.Thread(target=get_gpu_info)\n",
    "        t.start()\n",
    "    loss, acc, lin_time, mes_time, aggr_time, up_time, sample_time = train(epoch)\n",
    "\n",
    "    lin_times.append(lin_time)\n",
    "    mes_times.append(mes_time)\n",
    "    aggr_times.append(aggr_time)\n",
    "    up_times.append(up_time)\n",
    "    sample_times.append(sample_time)\n",
    "\n",
    "    print(f'Epoch {epoch:02d}, Loss: {loss:.4f}, Approx. Train: {acc:.4f}')\n",
    "\n",
    "    train_acc, val_acc, test_acc = test()\n",
    "    print(f'Train: {train_acc:.4f}, Val: {val_acc:.4f}, '\n",
    "          f'Test: {test_acc:.4f}')\n",
    "t_status = False\n",
    "t.join()\n",
    "end_time = time.time()\n",
    "print(\"Average linear time:\", 1000 * np.mean(lin_times), 'ms')\n",
    "print(\"Average message time:\", 1000 * np.mean(mes_times), 'ms')\n",
    "print(\"Average aggregate time:\", 1000 * np.mean(aggr_times), 'ms')\n",
    "print(\"Average update time:\", 1000 * np.mean(up_times), 'ms')\n",
    "print(\"Average sample time:\", (1000 * np.mean(sample_times) + init_sample_time), 'ms')\n",
    "print(\"========================================================\")\n",
    "print(f\"GPU 显存占用: {np.mean(group_gpu_mem_use)}Mb\")\n",
    "print(f\"GPU 显存占用率: {np.mean(group_gpu_mem_use) * 100 / total_gpu_mem}%\")\n",
    "print(f\"GPU 平均使用率: {np.mean(group_gpu_util) - start_gpu_util}%\")\n",
    "tmp_ = sum(np.where(np.array(group_gpu_util) - start_gpu_util > 1, True, False))\n",
    "print(f\"GPU 空闲率: {(len(group_gpu_util) - tmp_) * 100 / len(group_gpu_util)}%\")\n",
    "print(f'内存使用：{np.mean(group_mem_rss) / 1024 / 1024 / 1024:.4f} GB')\n",
    "print(f'磁盘IO使用：{np.mean(group_disk_usage) / 1024 / 1024 / 1024:.4f} GB/s')\n",
    "print(f'磁盘IO使用率：{np.mean(group_disk_usage) * 100 / disk_total:.4f}%')\n",
    "print(f'cpu iowait：{np.mean(group_iowait)}')\n",
    "print(\"Total training and evaluation time:\", end_time - start_time)"
   ]
  },
  {
   "cell_type": "code",
   "execution_count": 7,
   "id": "6c6262ae",
   "metadata": {},
   "outputs": [
    {
     "name": "stdout",
     "output_type": "stream",
     "text": [
      "29820\n"
     ]
    }
   ],
   "source": [
    "# p = psutil.Process(11536)\n",
    "print(os.getpid())"
   ]
  },
  {
   "cell_type": "code",
   "execution_count": 1,
   "id": "e3622bd6",
   "metadata": {},
   "outputs": [],
   "source": [
    "import os\n",
    "import os.path as osp\n",
    "\n",
    "import time\n",
    "import os, mmap\n",
    "import torch\n",
    "from torch_geometric.data import Data\n",
    "import torch.nn.functional as F\n",
    "from torch_geometric.nn import GCNConv, GATConv\n",
    "from torch_geometric.utils import add_self_loops\n",
    "from sklearn.manifold import TSNE\n",
    "import numpy as np\n",
    "from torch_geometric.datasets import Planetoid\n",
    "import nvsmi\n",
    "import threading\n",
    "import psutil\n",
    "\n",
    "gpu_data = list(nvsmi.get_gpus())[0]\n",
    "start_gpu_util = gpu_data.gpu_util\n",
    "start_gpu_mem_use = gpu_data.mem_used\n",
    "total_gpu_mem = gpu_data.mem_total\n",
    "disk_io_counter = psutil.disk_io_counters()\n",
    "disk_total = disk_io_counter[2] + disk_io_counter[3]  # read_bytes + write_bytes\n",
    "p = psutil.Process()\n",
    "group_mem_rss = []\n",
    "group_gpu_util = []\n",
    "group_gpu_mem_use = []\n",
    "group_disk_usage = []\n",
    "group_iowait = []\n",
    "t_status = True\n",
    "\n",
    "\n",
    "def get_gpu_info():    \n",
    "    while True:\n",
    "        if not t_status:\n",
    "            break\n",
    "        gpu_data = list(nvsmi.get_gpus())[0]\n",
    "        group_gpu_util.append(gpu_data.gpu_util)\n",
    "        group_gpu_mem_use.append(gpu_data.mem_used)\n",
    "        group_mem_rss.append(psutil.Process(os.getpid()).memory_info().rss)\n",
    "        io_counters = p.io_counters()\n",
    "        disk_usage = io_counters[2] + io_counters[3]\n",
    "        group_disk_usage.append(disk_usage)  # read_bytes + write_bytes\n",
    "        try:\n",
    "            a = psutil.cpu_times_percent().iowait\n",
    "        except:\n",
    "            a = 0\n",
    "        group_iowait.append(a)\n",
    "        # print(f\"{disk_usage / 1024 / 1024} Mb/s\")\n",
    "#         print(group_gpu_util)\n",
    "        time.sleep(1)"
   ]
  },
  {
   "cell_type": "code",
   "execution_count": 2,
   "id": "72dce9ad",
   "metadata": {},
   "outputs": [],
   "source": [
    "# print(list(nvsmi.get_gpus()))\n",
    "\n",
    "# gpu_data = list(nvsmi.get_gpus())[0]\n",
    "# print(gpu_data.gpu_util)"
   ]
  },
  {
   "cell_type": "code",
   "execution_count": 3,
   "id": "eac34b06",
   "metadata": {
    "scrolled": true
   },
   "outputs": [
    {
     "name": "stderr",
     "output_type": "stream",
     "text": [
      "D:\\AnacondaSystem\\envs\\anlp_cw2\\lib\\site-packages\\torch_geometric\\deprecation.py:12: UserWarning: 'data.ClusterData' is deprecated, use 'loader.ClusterData' instead\n",
      "  warnings.warn(out)\n",
      "D:\\AnacondaSystem\\envs\\anlp_cw2\\lib\\site-packages\\torch_geometric\\deprecation.py:12: UserWarning: 'data.ClusterLoader' is deprecated, use 'loader.ClusterLoader' instead\n",
      "  warnings.warn(out)\n",
      "D:\\AnacondaSystem\\envs\\anlp_cw2\\lib\\site-packages\\torch_geometric\\deprecation.py:12: UserWarning: 'data.NeighborSampler' is deprecated, use 'loader.NeighborSampler' instead\n",
      "  warnings.warn(out)\n"
     ]
    },
    {
     "name": "stdout",
     "output_type": "stream",
     "text": [
      "cuda\n"
     ]
    },
    {
     "name": "stderr",
     "output_type": "stream",
     "text": [
      "Epoch 01: : 232965it [00:16, 14002.21it/s]                                                                             \n"
     ]
    },
    {
     "name": "stdout",
     "output_type": "stream",
     "text": [
      "Epoch 01, Loss: 2.0187\n"
     ]
    },
    {
     "name": "stderr",
     "output_type": "stream",
     "text": [
      "Evaluating: 100%|████████████████████████████████████████████████████████████| 465930/465930 [01:23<00:00, 5566.11it/s]\n"
     ]
    },
    {
     "name": "stdout",
     "output_type": "stream",
     "text": [
      "Train: 0.7818, Val: 0.7991, Test: 0.7951\n"
     ]
    },
    {
     "name": "stderr",
     "output_type": "stream",
     "text": [
      "Epoch 02: : 232965it [00:10, 21477.06it/s]                                                                             \n"
     ]
    },
    {
     "name": "stdout",
     "output_type": "stream",
     "text": [
      "Epoch 02, Loss: 1.0125\n"
     ]
    },
    {
     "name": "stderr",
     "output_type": "stream",
     "text": [
      "Evaluating: 100%|████████████████████████████████████████████████████████████| 465930/465930 [01:12<00:00, 6411.65it/s]\n"
     ]
    },
    {
     "name": "stdout",
     "output_type": "stream",
     "text": [
      "Train: 0.8884, Val: 0.8991, Test: 0.8961\n"
     ]
    },
    {
     "name": "stderr",
     "output_type": "stream",
     "text": [
      "Epoch 03: : 232965it [00:10, 22803.89it/s]                                                                             \n"
     ]
    },
    {
     "name": "stdout",
     "output_type": "stream",
     "text": [
      "Epoch 03, Loss: 0.7931\n"
     ]
    },
    {
     "name": "stderr",
     "output_type": "stream",
     "text": [
      "Evaluating: 100%|████████████████████████████████████████████████████████████| 465930/465930 [01:12<00:00, 6405.34it/s]\n"
     ]
    },
    {
     "name": "stdout",
     "output_type": "stream",
     "text": [
      "Train: 0.9132, Val: 0.9197, Test: 0.9182\n"
     ]
    },
    {
     "name": "stderr",
     "output_type": "stream",
     "text": [
      "Epoch 04: : 232965it [00:10, 22656.13it/s]                                                                             \n"
     ]
    },
    {
     "name": "stdout",
     "output_type": "stream",
     "text": [
      "Epoch 04, Loss: 0.7116\n"
     ]
    },
    {
     "name": "stderr",
     "output_type": "stream",
     "text": [
      "Evaluating: 100%|████████████████████████████████████████████████████████████| 465930/465930 [01:12<00:00, 6398.51it/s]\n"
     ]
    },
    {
     "name": "stdout",
     "output_type": "stream",
     "text": [
      "Train: 0.9220, Val: 0.9291, Test: 0.9276\n"
     ]
    },
    {
     "name": "stderr",
     "output_type": "stream",
     "text": [
      "Epoch 05: : 232965it [00:10, 23042.65it/s]                                                                             \n"
     ]
    },
    {
     "name": "stdout",
     "output_type": "stream",
     "text": [
      "Epoch 05, Loss: 0.6719\n"
     ]
    },
    {
     "name": "stderr",
     "output_type": "stream",
     "text": [
      "Evaluating: 100%|████████████████████████████████████████████████████████████| 465930/465930 [01:12<00:00, 6425.43it/s]\n"
     ]
    },
    {
     "name": "stdout",
     "output_type": "stream",
     "text": [
      "Train: 0.9314, Val: 0.9378, Test: 0.9364\n"
     ]
    },
    {
     "name": "stderr",
     "output_type": "stream",
     "text": [
      "Epoch 06: : 232965it [00:09, 23417.58it/s]                                                                             \n"
     ]
    },
    {
     "name": "stdout",
     "output_type": "stream",
     "text": [
      "Epoch 06, Loss: 0.6365\n"
     ]
    },
    {
     "name": "stderr",
     "output_type": "stream",
     "text": [
      "Evaluating: 100%|████████████████████████████████████████████████████████████| 465930/465930 [01:12<00:00, 6424.47it/s]\n"
     ]
    },
    {
     "name": "stdout",
     "output_type": "stream",
     "text": [
      "Train: 0.9314, Val: 0.9375, Test: 0.9358\n"
     ]
    },
    {
     "name": "stderr",
     "output_type": "stream",
     "text": [
      "Epoch 07: : 232965it [00:09, 23351.55it/s]                                                                             \n"
     ]
    },
    {
     "name": "stdout",
     "output_type": "stream",
     "text": [
      "Epoch 07, Loss: 0.6254\n"
     ]
    },
    {
     "name": "stderr",
     "output_type": "stream",
     "text": [
      "Evaluating: 100%|████████████████████████████████████████████████████████████| 465930/465930 [01:12<00:00, 6469.16it/s]\n"
     ]
    },
    {
     "name": "stdout",
     "output_type": "stream",
     "text": [
      "Train: 0.9325, Val: 0.9379, Test: 0.9364\n"
     ]
    },
    {
     "name": "stderr",
     "output_type": "stream",
     "text": [
      "Epoch 08: : 232965it [00:09, 23390.14it/s]                                                                             \n"
     ]
    },
    {
     "name": "stdout",
     "output_type": "stream",
     "text": [
      "Epoch 08, Loss: 0.6110\n"
     ]
    },
    {
     "name": "stderr",
     "output_type": "stream",
     "text": [
      "Evaluating: 100%|████████████████████████████████████████████████████████████| 465930/465930 [01:17<00:00, 6004.94it/s]\n"
     ]
    },
    {
     "name": "stdout",
     "output_type": "stream",
     "text": [
      "Train: 0.9345, Val: 0.9410, Test: 0.9379\n"
     ]
    },
    {
     "name": "stderr",
     "output_type": "stream",
     "text": [
      "Epoch 09: : 232965it [00:10, 23074.73it/s]                                                                             \n"
     ]
    },
    {
     "name": "stdout",
     "output_type": "stream",
     "text": [
      "Epoch 09, Loss: 0.5923\n"
     ]
    },
    {
     "name": "stderr",
     "output_type": "stream",
     "text": [
      "Evaluating: 100%|████████████████████████████████████████████████████████████| 465930/465930 [01:17<00:00, 6016.63it/s]\n"
     ]
    },
    {
     "name": "stdout",
     "output_type": "stream",
     "text": [
      "Train: 0.9357, Val: 0.9421, Test: 0.9389\n"
     ]
    },
    {
     "name": "stderr",
     "output_type": "stream",
     "text": [
      "Epoch 10: : 232965it [00:11, 20630.23it/s]                                                                             \n"
     ]
    },
    {
     "name": "stdout",
     "output_type": "stream",
     "text": [
      "Epoch 10, Loss: 0.5856\n"
     ]
    },
    {
     "name": "stderr",
     "output_type": "stream",
     "text": [
      "Evaluating: 100%|████████████████████████████████████████████████████████████| 465930/465930 [01:19<00:00, 5892.38it/s]\n"
     ]
    },
    {
     "name": "stdout",
     "output_type": "stream",
     "text": [
      "Train: 0.9347, Val: 0.9408, Test: 0.9384\n",
      "Average linear time: 167.33524799346924 ms\n",
      "Average message time: 0.13377666473388672 ms\n",
      "Average aggregate time: 33.89997482299805 ms\n",
      "Average update time: 11.966919898986816 ms\n",
      "Average sample time: 8561.044199943542 ms\n",
      "GPU 显存占用: 6752.3397190293745Mb\n",
      "GPU 显存占用率: 82.42602196080779%\n",
      "GPU 平均使用率: 17.32439335887612%\n",
      "GPU 空闲率: 22.349936143039592%\n",
      "内存使用：6.2085 GB\n",
      "磁盘IO使用：5.7688 GB/s\n",
      "磁盘IO使用率：0.4336%\n",
      "cpu iowait：0.0\n",
      "Total training and evaluation time: 863.2517702579498\n"
     ]
    }
   ],
   "source": [
    "# import torch\n",
    "import torch.nn.functional as F\n",
    "from torch.nn import ModuleList\n",
    "from tqdm import tqdm\n",
    "from torch_geometric.datasets import Reddit\n",
    "from torch_geometric.data import ClusterData, ClusterLoader, NeighborSampler\n",
    "from SAGEConv import SAGEConv\n",
    "from typing import Optional, Tuple\n",
    "from torch_geometric.typing import Adj, OptTensor, PairTensor\n",
    "from torch_geometric.datasets import Planetoid\n",
    "# from torch import Tensor\n",
    "from torch.nn import Parameter\n",
    "from torch_scatter import scatter_add\n",
    "from torch_sparse import SparseTensor, matmul, fill_diag, sum, mul\n",
    "from torch_geometric.nn.conv import MessagePassing\n",
    "# from torch_geometrictorch_geometric.utils import add_remaining_self_loops\n",
    "from torch_geometric.utils.num_nodes import maybe_num_nodes\n",
    "from torch_geometric.nn.inits import glorot, zeros\n",
    "from torch_geometric.utils import add_self_loops, degree\n",
    "\n",
    "import time\n",
    "import nvsmi\n",
    "import threading\n",
    "import psutil\n",
    "import os\n",
    "import builtins\n",
    "\n",
    "class SAGENet(torch.nn.Module):\n",
    "    def __init__(self, in_channels, hidden_channels, out_channels):\n",
    "        super(SAGENet, self).__init__()\n",
    "\n",
    "        self.num_layers = 2\n",
    "\n",
    "        self.convs = torch.nn.ModuleList()\n",
    "        self.convs.append(SAGEConv(in_channels, hidden_channels))\n",
    "        self.convs.append(SAGEConv(hidden_channels, out_channels))\n",
    "\n",
    "    def forward(self, x, edge_index):\n",
    "        # `train_loader` computes the k-hop neighborhood of a batch of nodes,\n",
    "        # and returns, for each layer, a bipartite graph object, holding the\n",
    "        # bipartite edges `edge_index`, the index `e_id` of the original edges,\n",
    "        # and the size/shape `size` of the bipartite graph.\n",
    "        # Target nodes are also included in the source nodes so that one can\n",
    "        # easily apply skip-connections or add self-loops.\n",
    "\n",
    "        lin_times = 0\n",
    "        mes_times = 0\n",
    "        aggr_times = 0\n",
    "        up_times = 0\n",
    "\n",
    "        for i, conv in enumerate(self.convs):\n",
    "            # Target nodes are always placed first.\n",
    "            x, linear_time, message_time, aggregate_time, update_time = self.convs[i](x, edge_index)\n",
    "            lin_times += linear_time\n",
    "            mes_times += message_time\n",
    "            aggr_times += aggregate_time\n",
    "            up_times += update_time\n",
    "            if i != self.num_layers - 1:\n",
    "                x = F.relu(x)\n",
    "                x = F.dropout(x, p=0.5, training=self.training)\n",
    "        return x.log_softmax(dim=-1), lin_times, mes_times, aggr_times, up_times\n",
    "    \n",
    "#     def forward(self, x, edge_index):\n",
    "#         for i, conv in enumerate(self.convs):\n",
    "#             x = conv(x, edge_index)\n",
    "#             if i != len(self.convs) - 1:\n",
    "#                 x = F.relu(x)\n",
    "#                 x = F.dropout(x, p=0.5, training=self.training)\n",
    "#         return F.log_softmax(x, dim=-1)\n",
    "    \n",
    "\n",
    "    def inference(self, x_all):\n",
    "        pbar = tqdm(total=x_all.size(0) * self.num_layers)\n",
    "        pbar.set_description('Evaluating')\n",
    "\n",
    "        # Compute representations of nodes layer by layer, using *all*\n",
    "        # available edges. This leads to faster computation in contrast to\n",
    "        # immediately computing the final representations of each batch.\n",
    "        for i in range(self.num_layers):\n",
    "            xs = []\n",
    "            for batch_size, n_id, adj in subgraph_loader:\n",
    "                edge_index, _, size = adj.to(device)\n",
    "                x = x_all[n_id].to(device)\n",
    "                x_target = x[:size[1]]\n",
    "                x, linear_time, message_time, aggregate_time, update_time = self.convs[i]((x, x_target), edge_index)\n",
    "                if i != self.num_layers - 1:\n",
    "                    x = F.relu(x)\n",
    "                xs.append(x.cpu())\n",
    "\n",
    "                pbar.update(batch_size)\n",
    "\n",
    "            x_all = torch.cat(xs, dim=0)\n",
    "\n",
    "        pbar.close()\n",
    "\n",
    "        return x_all\n",
    "\n",
    "\n",
    "def train(epoch):\n",
    "    model.train()\n",
    "\n",
    "    pbar = tqdm(total=int(data.train_mask.sum()))\n",
    "    pbar.set_description(f'Epoch {epoch:02d}')\n",
    "\n",
    "    total_lin_time = 0\n",
    "    total_mes_time = 0\n",
    "    total_aggr_time = 0\n",
    "    total_up_time = 0\n",
    "\n",
    "    total_sample_time = 0\n",
    "\n",
    "    total_loss = total_correct = 0\n",
    "    start_time = time.time()\n",
    "    for batch in train_loader:\n",
    "        # `adjs` holds a list of `(edge_index, e_id, size)` tuples.\n",
    "        end_time = time.time()\n",
    "        total_sample_time += (end_time - start_time)\n",
    "        batch = batch.to(device)\n",
    "        \n",
    "        optimizer.zero_grad()\n",
    "        out, lin_time, mes_time, aggr_time, up_time = model(batch.x, batch.edge_index)\n",
    "\n",
    "        total_lin_time += lin_time\n",
    "        total_mes_time += mes_time\n",
    "        total_aggr_time += aggr_time\n",
    "        total_up_time += up_time\n",
    "\n",
    "#         loss = F.nll_loss(out, y[n_id[:batch_size]])\n",
    "        loss = F.nll_loss(out[batch.train_mask], batch.y[batch.train_mask])\n",
    "        loss.backward()\n",
    "        optimizer.step()\n",
    "\n",
    "        total_loss += float(loss)\n",
    "#         total_correct += int(out.argmax(dim=-1).eq(batch.y[batch.train_mask].sum()))\n",
    "        \n",
    "#         nodes = batch.train_mask.sum().item()\n",
    "#         total_loss += loss.item() * nodes\n",
    "#         total_nodes += nodes\n",
    "#         print(batch)\n",
    "        pbar.update(len(batch.train_mask))\n",
    "        start_time = time.time()\n",
    "\n",
    "    pbar.close()\n",
    "\n",
    "    loss = total_loss / len(train_loader)\n",
    "#     approx_acc = total_correct / int(data.train_mask.sum()) \n",
    "\n",
    "    return loss, total_lin_time, total_mes_time, total_aggr_time, total_up_time, total_sample_time\n",
    "\n",
    "\n",
    "@torch.no_grad()\n",
    "def test():  # Inference should be performed on the full graph.\n",
    "    model.eval()\n",
    "\n",
    "    out = model.inference(data.x)\n",
    "    y_pred = out.argmax(dim=-1)\n",
    "\n",
    "    accs = []\n",
    "    for mask in [data.train_mask, data.val_mask, data.test_mask]:\n",
    "        correct = y_pred[mask].eq(data.y[mask]).sum().item()\n",
    "        accs.append(correct / mask.sum().item())\n",
    "    return accs\n",
    "\n",
    "\n",
    "\n",
    "\n",
    "# 需要下载 https://data.dgl.ai/dataset/reddit.zip 到 data/Reddit 文件夹下\n",
    "# dataset = Reddit('data/Reddit')\n",
    "# dataset = PPI('data/PPI')\n",
    "# dataset = Planetoid(root='./cora/', name='Cora')\n",
    "dataset = Reddit(root='./reddit/')\n",
    "data = dataset[0]\n",
    "\n",
    "# 图聚类\n",
    "\n",
    "start_time = time.time()\n",
    "cluster_data = ClusterData(data, num_parts=5000, recursive=False,\n",
    "                           save_dir=dataset.processed_dir)\n",
    "train_loader = ClusterLoader(cluster_data, batch_size=128, shuffle=True,\n",
    "                             num_workers=6)\n",
    "end_time = time.time()\n",
    "\n",
    "init_sample_time = end_time - start_time\n",
    "# 不聚类\n",
    "subgraph_loader = NeighborSampler(data.edge_index, sizes=[-1], batch_size=1024,\n",
    "                                  shuffle=False, num_workers=8)\n",
    "\n",
    "device = torch.device('cuda' if torch.cuda.is_available() else 'cpu')\n",
    "print(device)\n",
    "model =  SAGENet(dataset.num_features, 16, dataset.num_classes)\n",
    "model = model.cuda()\n",
    "model.to(device)\n",
    "optimizer = torch.optim.Adam(model.parameters(), lr=0.005)\n",
    "        \n",
    "        \n",
    "lin_times = []\n",
    "mes_times = []\n",
    "aggr_times = []\n",
    "up_times = []\n",
    "sample_times = []\n",
    "\n",
    "start_time = time.time()\n",
    "for epoch in range(1, 11):\n",
    "    if epoch == 1:\n",
    "        t = threading.Thread(target=get_gpu_info)\n",
    "        t.start()\n",
    "    loss, lin_time, mes_time, aggr_time, up_time, sample_time = train(epoch)\n",
    "\n",
    "    lin_times.append(lin_time)\n",
    "    mes_times.append(mes_time)\n",
    "    aggr_times.append(aggr_time)\n",
    "    up_times.append(up_time)\n",
    "    sample_times.append(sample_time)\n",
    "\n",
    "    print(f'Epoch {epoch:02d}, Loss: {loss:.4f}')\n",
    "\n",
    "    train_acc, val_acc, test_acc = test()\n",
    "    print(f'Train: {train_acc:.4f}, Val: {val_acc:.4f}, '\n",
    "          f'Test: {test_acc:.4f}')\n",
    "t_status = False\n",
    "t.join()\n",
    "end_time = time.time()\n",
    "import numpy as np\n",
    "print(\"Average linear time:\", 1000 * np.mean(lin_times), 'ms')\n",
    "print(\"Average message time:\", 1000 * np.mean(mes_times), 'ms')\n",
    "print(\"Average aggregate time:\", 1000 * np.mean(aggr_times), 'ms')\n",
    "print(\"Average update time:\", 1000 * np.mean(up_times), 'ms')\n",
    "print(\"Average sample time:\", (1000 * np.mean(sample_times) + init_sample_time), 'ms')\n",
    "print(f\"GPU 显存占用: {np.mean(group_gpu_mem_use)}Mb\")\n",
    "print(f\"GPU 显存占用率: {np.mean(group_gpu_mem_use) * 100 / total_gpu_mem}%\")\n",
    "print(f\"GPU 平均使用率: {np.mean(group_gpu_util) - start_gpu_util}%\")\n",
    "tmp_ = builtins.sum(np.where(np.array(group_gpu_util) - start_gpu_util > 1, True, False))\n",
    "print(f\"GPU 空闲率: {(len(group_gpu_util) - tmp_) * 100 / len(group_gpu_util)}%\")\n",
    "print(f'内存使用：{np.mean(group_mem_rss) / 1024 / 1024 / 1024:.4f} GB')\n",
    "print(f'磁盘IO使用：{np.mean(group_disk_usage) / 1024 / 1024 / 1024:.4f} GB/s')\n",
    "print(f'磁盘IO使用率：{np.mean(group_disk_usage) * 100 / disk_total:.4f}%')\n",
    "print(f'cpu iowait：{np.mean(group_iowait)}')\n",
    "print(\"Total training and evaluation time:\", end_time - start_time)"
   ]
  },
  {
   "cell_type": "code",
   "execution_count": null,
   "id": "dadbe64e",
   "metadata": {},
   "outputs": [],
   "source": []
  }
 ],
 "metadata": {
  "kernelspec": {
   "display_name": "Python 3 (ipykernel)",
   "language": "python",
   "name": "python3"
  },
  "language_info": {
   "codemirror_mode": {
    "name": "ipython",
    "version": 3
   },
   "file_extension": ".py",
   "mimetype": "text/x-python",
   "name": "python",
   "nbconvert_exporter": "python",
   "pygments_lexer": "ipython3",
   "version": "3.8.12"
  }
 },
 "nbformat": 4,
 "nbformat_minor": 5
}
