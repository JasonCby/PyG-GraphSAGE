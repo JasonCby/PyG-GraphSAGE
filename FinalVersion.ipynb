{
 "cells": [
  {
   "cell_type": "code",
   "execution_count": 2,
   "id": "5cf0e3ed",
   "metadata": {},
   "outputs": [],
   "source": [
    "import os\n",
    "import os.path as osp\n",
    "\n",
    "import time\n",
    "import os, mmap\n",
    "import torch\n",
    "from torch_geometric.data import Data\n",
    "import torch.nn.functional as F\n",
    "from torch_geometric.nn import GCNConv, GATConv\n",
    "from torch_geometric.utils import add_self_loops\n",
    "from sklearn.manifold import TSNE\n",
    "import numpy as np\n",
    "from torch_geometric.datasets import Planetoid\n",
    "import nvsmi\n",
    "import threading\n",
    "import psutil"
   ]
  },
  {
   "cell_type": "markdown",
   "id": "e04bf217",
   "metadata": {},
   "source": [
    "# Test system evaluation index"
   ]
  },
  {
   "cell_type": "code",
   "execution_count": 3,
   "id": "01234e20",
   "metadata": {},
   "outputs": [],
   "source": [
    "import nvsmi\n",
    "import threading\n",
    "import psutil\n",
    "import os\n",
    "import os.path as osp\n",
    "\n",
    "disk_io_counter = psutil.disk_io_counters()\n",
    "disk_total = disk_io_counter[2] + disk_io_counter[3]  # read_bytes + write_bytes\n",
    "p = psutil.Process()\n",
    "group_mem_rss = []\n",
    "group_disk_usage = []\n",
    "group_iowait = []\n",
    "t_status = True\n",
    "\n",
    "def get_gpu_info():\n",
    "    while True:\n",
    "        if not t_status:\n",
    "            break\n",
    "        group_mem_rss.append(psutil.Process(os.getpid()).memory_info().rss)\n",
    "        io_counters = p.io_counters()\n",
    "        disk_usage = io_counters[2] + io_counters[3]\n",
    "        group_disk_usage.append(disk_usage)  # read_bytes + write_bytes\n",
    "        try:\n",
    "            a = psutil.cpu_times_percent().iowait\n",
    "        except:\n",
    "            a = 0\n",
    "        group_iowait.append(a)\n",
    "#         print(f\"{disk_usage / 1024 / 1024} Mb/s\")\n",
    "#         time.sleep(0.09)"
   ]
  },
  {
   "cell_type": "markdown",
   "id": "47426ee2",
   "metadata": {},
   "source": [
    "# Loading data and sampling"
   ]
  },
  {
   "cell_type": "code",
   "execution_count": 4,
   "id": "35bcab65",
   "metadata": {},
   "outputs": [
    {
     "name": "stdout",
     "output_type": "stream",
     "text": [
      "Reddit()\n",
      "NeighborSampler time:18.409671545028687\n",
      "内存使用：2.5188 GB\n",
      "磁盘IO使用：2.2602 GB/s\n",
      "磁盘IO使用率：3.5007%\n",
      "cpu iowait：0.0\n"
     ]
    }
   ],
   "source": [
    "from torch_geometric.datasets import Planetoid\n",
    "from torch_geometric.datasets import Reddit\n",
    "import torch\n",
    "from torch_geometric.loader import NeighborSampler\n",
    "# from NS import NeighborSampler\n",
    "import torch\n",
    "import torch.nn as nn\n",
    "import torch.nn.functional as F\n",
    "from torch_geometric.nn import GCNConv\n",
    "from SAGEConv import SAGEConv\n",
    "from tqdm import tqdm\n",
    "import torch.optim as optim\n",
    "import numpy as np\n",
    "import time\n",
    "\n",
    "# from torch.utils.data import DataLoader\n",
    "\n",
    "# dataset = Planetoid(root='./cora/', name='Cora')\n",
    "# dataset = Planetoid(root='./citeseer',name='Citeseer')\n",
    "# dataset = Planetoid(root='./pubmed/',name='Pubmed')\n",
    "dataset = Reddit(root='./reddit/')\n",
    "print(dataset)\n",
    "\n",
    "start_time = time.time()\n",
    "t = threading.Thread(target=get_gpu_info)\n",
    "t.start()\n",
    "# train_loader = NeighborSampler(dataset[0].edge_index, node_idx=dataset[0].train_mask,\n",
    "#                                sizes=[10, 10], batch_size=16, shuffle=True,\n",
    "#                                num_workers=6)\n",
    "t_status = False\n",
    "t.join()\n",
    "\n",
    "# Reddit\n",
    "train_loader = NeighborSampler(dataset[0].edge_index, node_idx=dataset[0].train_mask,\n",
    "                               sizes=[25, 10], batch_size=1024, shuffle=True,\n",
    "                               num_workers=8,pin_memory=True)\n",
    "\n",
    "end_time = time.time()\n",
    "init_sample_time = end_time - start_time\n",
    "print('NeighborSampler time:{}'.format(end_time - start_time))\n",
    "print(f'内存使用：{np.mean(group_mem_rss) / 1024 / 1024 / 1024:.4f} GB')\n",
    "print(f'磁盘IO使用：{np.mean(group_disk_usage) / 1024 / 1024 / 1024:.4f} GB/s')\n",
    "print(f'磁盘IO使用率：{np.mean(group_disk_usage) * 100 / disk_total:.4f}%')\n",
    "print(f'cpu iowait：{np.mean(group_iowait)}')\n",
    "\n",
    "\n",
    "subgraph_loader = NeighborSampler(dataset[0].edge_index, node_idx=None, sizes=[-1],\n",
    "                                  batch_size=1024, shuffle=False,\n",
    "                                  num_workers=8)"
   ]
  },
  {
   "cell_type": "markdown",
   "id": "f4044260",
   "metadata": {},
   "source": [
    "# Traning"
   ]
  },
  {
   "cell_type": "code",
   "execution_count": 5,
   "id": "e38db462",
   "metadata": {},
   "outputs": [
    {
     "name": "stdout",
     "output_type": "stream",
     "text": [
      "SAGENet(\n",
      "  (convs): ModuleList(\n",
      "    (0): SAGEConv(602, 256)\n",
      "    (1): SAGEConv(256, 41)\n",
      "  )\n",
      ")\n",
      "cuda\n",
      "Data(x=[232965, 602], edge_index=[2, 114615892], y=[232965], train_mask=[232965], val_mask=[232965], test_mask=[232965])\n"
     ]
    },
    {
     "name": "stderr",
     "output_type": "stream",
     "text": [
      "Epoch 01: 100%|███████████████████████████████████████████████████████████████| 153431/153431 [05:50<00:00, 438.24it/s]\n"
     ]
    },
    {
     "name": "stdout",
     "output_type": "stream",
     "text": [
      "Epoch 01, Loss: 0.4667, Approx. Train: 0.8931\n"
     ]
    },
    {
     "name": "stderr",
     "output_type": "stream",
     "text": [
      "Evaluating: 100%|████████████████████████████████████████████████████████████| 465930/465930 [05:01<00:00, 1543.13it/s]\n"
     ]
    },
    {
     "name": "stdout",
     "output_type": "stream",
     "text": [
      "Train: 0.9476, Val: 0.9483, Test: 0.9478\n"
     ]
    },
    {
     "name": "stderr",
     "output_type": "stream",
     "text": [
      "Epoch 02: 100%|███████████████████████████████████████████████████████████████| 153431/153431 [05:36<00:00, 456.10it/s]\n"
     ]
    },
    {
     "name": "stdout",
     "output_type": "stream",
     "text": [
      "Epoch 02, Loss: 0.3294, Approx. Train: 0.9246\n"
     ]
    },
    {
     "name": "stderr",
     "output_type": "stream",
     "text": [
      "Evaluating: 100%|████████████████████████████████████████████████████████████| 465930/465930 [04:54<00:00, 1581.22it/s]\n"
     ]
    },
    {
     "name": "stdout",
     "output_type": "stream",
     "text": [
      "Train: 0.9493, Val: 0.9486, Test: 0.9482\n"
     ]
    },
    {
     "name": "stderr",
     "output_type": "stream",
     "text": [
      "Epoch 03: 100%|███████████████████████████████████████████████████████████████| 153431/153431 [05:37<00:00, 455.11it/s]\n"
     ]
    },
    {
     "name": "stdout",
     "output_type": "stream",
     "text": [
      "Epoch 03, Loss: 0.3530, Approx. Train: 0.9215\n"
     ]
    },
    {
     "name": "stderr",
     "output_type": "stream",
     "text": [
      "Evaluating: 100%|████████████████████████████████████████████████████████████| 465930/465930 [04:55<00:00, 1575.40it/s]\n"
     ]
    },
    {
     "name": "stdout",
     "output_type": "stream",
     "text": [
      "Train: 0.9446, Val: 0.9436, Test: 0.9428\n"
     ]
    },
    {
     "name": "stderr",
     "output_type": "stream",
     "text": [
      "Epoch 04: 100%|███████████████████████████████████████████████████████████████| 153431/153431 [05:36<00:00, 456.40it/s]\n"
     ]
    },
    {
     "name": "stdout",
     "output_type": "stream",
     "text": [
      "Epoch 04, Loss: 0.3691, Approx. Train: 0.9211\n"
     ]
    },
    {
     "name": "stderr",
     "output_type": "stream",
     "text": [
      "Evaluating: 100%|████████████████████████████████████████████████████████████| 465930/465930 [04:46<00:00, 1623.63it/s]\n"
     ]
    },
    {
     "name": "stdout",
     "output_type": "stream",
     "text": [
      "Train: 0.9498, Val: 0.9492, Test: 0.9486\n"
     ]
    },
    {
     "name": "stderr",
     "output_type": "stream",
     "text": [
      "Epoch 05: 100%|███████████████████████████████████████████████████████████████| 153431/153431 [05:40<00:00, 450.95it/s]\n"
     ]
    },
    {
     "name": "stdout",
     "output_type": "stream",
     "text": [
      "Epoch 05, Loss: 0.3753, Approx. Train: 0.9214\n"
     ]
    },
    {
     "name": "stderr",
     "output_type": "stream",
     "text": [
      "Evaluating: 100%|████████████████████████████████████████████████████████████| 465930/465930 [04:44<00:00, 1639.32it/s]\n"
     ]
    },
    {
     "name": "stdout",
     "output_type": "stream",
     "text": [
      "Train: 0.9504, Val: 0.9500, Test: 0.9493\n"
     ]
    },
    {
     "name": "stderr",
     "output_type": "stream",
     "text": [
      "Epoch 06: 100%|███████████████████████████████████████████████████████████████| 153431/153431 [05:38<00:00, 453.54it/s]\n"
     ]
    },
    {
     "name": "stdout",
     "output_type": "stream",
     "text": [
      "Epoch 06, Loss: 0.3527, Approx. Train: 0.9237\n"
     ]
    },
    {
     "name": "stderr",
     "output_type": "stream",
     "text": [
      "Evaluating: 100%|████████████████████████████████████████████████████████████| 465930/465930 [04:52<00:00, 1591.99it/s]\n"
     ]
    },
    {
     "name": "stdout",
     "output_type": "stream",
     "text": [
      "Train: 0.9543, Val: 0.9546, Test: 0.9525\n"
     ]
    },
    {
     "name": "stderr",
     "output_type": "stream",
     "text": [
      "Epoch 07: 100%|███████████████████████████████████████████████████████████████| 153431/153431 [05:35<00:00, 456.87it/s]\n"
     ]
    },
    {
     "name": "stdout",
     "output_type": "stream",
     "text": [
      "Epoch 07, Loss: 0.4604, Approx. Train: 0.9163\n"
     ]
    },
    {
     "name": "stderr",
     "output_type": "stream",
     "text": [
      "Evaluating: 100%|████████████████████████████████████████████████████████████| 465930/465930 [04:47<00:00, 1617.91it/s]\n"
     ]
    },
    {
     "name": "stdout",
     "output_type": "stream",
     "text": [
      "Train: 0.9492, Val: 0.9490, Test: 0.9489\n"
     ]
    },
    {
     "name": "stderr",
     "output_type": "stream",
     "text": [
      "Epoch 08: 100%|███████████████████████████████████████████████████████████████| 153431/153431 [05:34<00:00, 458.89it/s]\n"
     ]
    },
    {
     "name": "stdout",
     "output_type": "stream",
     "text": [
      "Epoch 08, Loss: 0.4787, Approx. Train: 0.9141\n"
     ]
    },
    {
     "name": "stderr",
     "output_type": "stream",
     "text": [
      "Evaluating: 100%|████████████████████████████████████████████████████████████| 465930/465930 [04:51<00:00, 1600.37it/s]\n"
     ]
    },
    {
     "name": "stdout",
     "output_type": "stream",
     "text": [
      "Train: 0.9467, Val: 0.9478, Test: 0.9454\n"
     ]
    },
    {
     "name": "stderr",
     "output_type": "stream",
     "text": [
      "Epoch 09: 100%|███████████████████████████████████████████████████████████████| 153431/153431 [05:36<00:00, 456.38it/s]\n"
     ]
    },
    {
     "name": "stdout",
     "output_type": "stream",
     "text": [
      "Epoch 09, Loss: 0.4055, Approx. Train: 0.9211\n"
     ]
    },
    {
     "name": "stderr",
     "output_type": "stream",
     "text": [
      "Evaluating:  43%|█████████████████████████▊                                  | 200704/465930 [02:02<02:26, 1815.88it/s]Exception in thread Thread-9:\n",
      "Traceback (most recent call last):\n",
      "  File \"D:\\AnacondaSystem\\envs\\anlp_cw2\\lib\\threading.py\", line 932, in _bootstrap_inner\n",
      "    self.run()\n",
      "  File \"D:\\AnacondaSystem\\envs\\anlp_cw2\\lib\\threading.py\", line 870, in run\n",
      "    self._target(*self._args, **self._kwargs)\n",
      "  File \"C:\\Users\\Razer\\AppData\\Local\\Temp/ipykernel_11536/3497486044.py\", line 22, in get_gpu_info\n",
      "MemoryError\n",
      "Evaluating: 100%|████████████████████████████████████████████████████████████| 465930/465930 [02:40<00:00, 2902.35it/s]\n"
     ]
    },
    {
     "name": "stdout",
     "output_type": "stream",
     "text": [
      "Train: 0.9535, Val: 0.9517, Test: 0.9511\n"
     ]
    },
    {
     "name": "stderr",
     "output_type": "stream",
     "text": [
      "Epoch 10: 100%|██████████████████████████████████████████████████████████████| 153431/153431 [00:28<00:00, 5417.67it/s]\n"
     ]
    },
    {
     "name": "stdout",
     "output_type": "stream",
     "text": [
      "Epoch 10, Loss: 0.3287, Approx. Train: 0.9274\n"
     ]
    },
    {
     "name": "stderr",
     "output_type": "stream",
     "text": [
      "Evaluating: 100%|████████████████████████████████████████████████████████████| 465930/465930 [00:48<00:00, 9531.82it/s]\n"
     ]
    },
    {
     "name": "stdout",
     "output_type": "stream",
     "text": [
      "Train: 0.9536, Val: 0.9523, Test: 0.9510\n",
      "Average linear time: 4521.8602657318115 ms\n",
      "Average message time: 0.22454261779785156 ms\n",
      "Average aggregate time: 49376.97734832764 ms\n",
      "Average update time: 8678.673338890076 ms\n",
      "Average sample time: 18020.273651838303 ms\n",
      "========================================================\n",
      "GPU 显存占用: 2864.0Mb\n",
      "GPU 显存占用率: 34.9609375%\n",
      "GPU 平均使用率: 0.0%\n"
     ]
    },
    {
     "name": "stderr",
     "output_type": "stream",
     "text": [
      "C:\\Users\\Razer\\AppData\\Local\\Temp/ipykernel_11536/3497486044.py:213: RuntimeWarning: overflow encountered in long_scalars\n",
      "  print(f\"GPU 空闲率: {(len(group_gpu_util) - tmp_) * 100 / len(group_gpu_util)}%\")\n"
     ]
    },
    {
     "name": "stdout",
     "output_type": "stream",
     "text": [
      "GPU 空闲率: -13.809428410515615%\n",
      "内存使用：9.0322 GB\n",
      "磁盘IO使用：2.3623 GB/s\n",
      "磁盘IO使用率：3.5244%\n",
      "cpu iowait：0.0\n"
     ]
    }
   ],
   "source": [
    "gpu_data = list(nvsmi.get_gpus())[0]\n",
    "start_gpu_util = gpu_data.gpu_util\n",
    "start_gpu_mem_use = gpu_data.mem_used\n",
    "total_gpu_mem = gpu_data.mem_total\n",
    "disk_io_counter = psutil.disk_io_counters()\n",
    "disk_total = disk_io_counter[2] + disk_io_counter[3]  # read_bytes + write_bytes\n",
    "p = psutil.Process()\n",
    "group_mem_rss = []\n",
    "group_gpu_util = []\n",
    "group_gpu_mem_use = []\n",
    "group_disk_usage = []\n",
    "group_iowait = []\n",
    "t_status = True\n",
    "\n",
    "def get_gpu_info():\n",
    "    gpu_data = list(nvsmi.get_gpus())[0]\n",
    "    while True:\n",
    "        if not t_status:\n",
    "            break\n",
    "        group_gpu_util.append(gpu_data.gpu_util)\n",
    "        group_gpu_mem_use.append(gpu_data.mem_used)\n",
    "        group_mem_rss.append(psutil.Process(os.getpid()).memory_info().rss)\n",
    "        io_counters = p.io_counters()\n",
    "        disk_usage = io_counters[2] + io_counters[3]\n",
    "        group_disk_usage.append(disk_usage)  # read_bytes + write_bytes\n",
    "        try:\n",
    "            a = psutil.cpu_times_percent().iowait\n",
    "        except:\n",
    "            a = 0\n",
    "        group_iowait.append(a)\n",
    "\n",
    "\n",
    "class SAGENet(torch.nn.Module):\n",
    "    def __init__(self, in_channels, hidden_channels, out_channels):\n",
    "        super(SAGENet, self).__init__()\n",
    "\n",
    "        self.num_layers = 2\n",
    "\n",
    "        self.convs = torch.nn.ModuleList()\n",
    "        self.convs.append(SAGEConv(in_channels, hidden_channels))\n",
    "        self.convs.append(SAGEConv(hidden_channels, out_channels))\n",
    "\n",
    "    def forward(self, x, adjs):\n",
    "        # `train_loader` computes the k-hop neighborhood of a batch of nodes,\n",
    "        # and returns, for each layer, a bipartite graph object, holding the\n",
    "        # bipartite edges `edge_index`, the index `e_id` of the original edges,\n",
    "        # and the size/shape `size` of the bipartite graph.\n",
    "        # Target nodes are also included in the source nodes so that one can\n",
    "        # easily apply skip-connections or add self-loops.\n",
    "\n",
    "        lin_times = 0\n",
    "        mes_times = 0\n",
    "        aggr_times = 0\n",
    "        up_times = 0\n",
    "\n",
    "        for i, (edge_index, _, size) in enumerate(adjs):\n",
    "            x_target = x[:size[1]]  # Target nodes are always placed first.\n",
    "            x, linear_time, message_time, aggregate_time, update_time = self.convs[i]((x, x_target), edge_index)\n",
    "            lin_times += linear_time\n",
    "            mes_times += message_time\n",
    "            aggr_times += aggregate_time\n",
    "            up_times += update_time\n",
    "            if i != self.num_layers - 1:\n",
    "                x = F.relu(x)\n",
    "                x = F.dropout(x, p=0.5, training=self.training)\n",
    "        return x.log_softmax(dim=-1), lin_times, mes_times, aggr_times, up_times\n",
    "\n",
    "    def inference(self, x_all):\n",
    "        pbar = tqdm(total=x_all.size(0) * self.num_layers)\n",
    "        pbar.set_description('Evaluating')\n",
    "\n",
    "        # Compute representations of nodes layer by layer, using *all*\n",
    "        # available edges. This leads to faster computation in contrast to\n",
    "        # immediately computing the final representations of each batch.\n",
    "        for i in range(self.num_layers):\n",
    "            xs = []\n",
    "            for batch_size, n_id, adj in subgraph_loader:\n",
    "                edge_index, _, size = adj.to(device)\n",
    "                x = x_all[n_id].to(device)\n",
    "                x_target = x[:size[1]]\n",
    "                x, linear_time, message_time, aggregate_time, update_time = self.convs[i]((x, x_target), edge_index)\n",
    "                if i != self.num_layers - 1:\n",
    "                    x = F.relu(x)\n",
    "                xs.append(x.cpu())\n",
    "\n",
    "                pbar.update(batch_size)\n",
    "\n",
    "            x_all = torch.cat(xs, dim=0)\n",
    "\n",
    "        pbar.close()\n",
    "\n",
    "        return x_all\n",
    "\n",
    "\n",
    "# cora\n",
    "model = SAGENet(dataset.num_features, 256, dataset.num_classes)\n",
    "\n",
    "# Reddit\n",
    "# model = SAGENet(dataset.num_features, 256, dataset.num_classes)\n",
    "print(model)\n",
    "\n",
    "device = torch.device('cuda' if torch.cuda.is_available() else 'cpu')\n",
    "print(device)\n",
    "model = model.cuda()\n",
    "model.to(device)\n",
    "data = dataset[0].to(device)\n",
    "print(data)\n",
    "\n",
    "x = data.x.to(device)\n",
    "y = data.y.squeeze().to(device)\n",
    "\n",
    "criterion = nn.NLLLoss().to(device)\n",
    "optimizer = optim.Adam(model.parameters(), lr=0.01, weight_decay=5e-4)\n",
    "\n",
    "\n",
    "def train(epoch):\n",
    "    model.train()\n",
    "\n",
    "    pbar = tqdm(total=int(data.train_mask.sum()))\n",
    "    pbar.set_description(f'Epoch {epoch:02d}')\n",
    "\n",
    "    total_lin_time = 0\n",
    "    total_mes_time = 0\n",
    "    total_aggr_time = 0\n",
    "    total_up_time = 0\n",
    "\n",
    "    total_sample_time = 0\n",
    "\n",
    "    total_loss = total_correct = 0\n",
    "    start_time = time.time()\n",
    "    for batch_size, n_id, adjs in train_loader:\n",
    "        # `adjs` holds a list of `(edge_index, e_id, size)` tuples.\n",
    "        end_time = time.time()\n",
    "        total_sample_time += (end_time - start_time)\n",
    "\n",
    "        adjs = [adj.to(device) for adj in adjs]\n",
    "\n",
    "        optimizer.zero_grad()\n",
    "        out, lin_time, mes_time, aggr_time, up_time = model(x[n_id], adjs)\n",
    "\n",
    "        total_lin_time += lin_time\n",
    "        total_mes_time += mes_time\n",
    "        total_aggr_time += aggr_time\n",
    "        total_up_time += up_time\n",
    "\n",
    "        loss = F.nll_loss(out, y[n_id[:batch_size]])\n",
    "        loss.backward()\n",
    "        optimizer.step()\n",
    "\n",
    "        total_loss += float(loss)\n",
    "        total_correct += int(out.argmax(dim=-1).eq(y[n_id[:batch_size]]).sum())\n",
    "        pbar.update(batch_size)\n",
    "        start_time = time.time()\n",
    "\n",
    "    pbar.close()\n",
    "\n",
    "    loss = total_loss / len(train_loader)\n",
    "    approx_acc = total_correct / int(data.train_mask.sum())\n",
    "\n",
    "    return loss, approx_acc, total_lin_time, total_mes_time, total_aggr_time, total_up_time, total_sample_time\n",
    "\n",
    "\n",
    "@torch.no_grad()\n",
    "def test():\n",
    "    model.eval()\n",
    "\n",
    "    out = model.inference(x)\n",
    "\n",
    "    y_true = y.cpu().unsqueeze(-1)\n",
    "    y_pred = out.argmax(dim=-1, keepdim=True)\n",
    "\n",
    "    results = []\n",
    "    for mask in [data.train_mask, data.val_mask, data.test_mask]:\n",
    "        results += [int(y_pred[mask].eq(y_true[mask]).sum()) / int(mask.sum())]\n",
    "\n",
    "    return results\n",
    "\n",
    "\n",
    "lin_times = []\n",
    "mes_times = []\n",
    "aggr_times = []\n",
    "up_times = []\n",
    "sample_times = []\n",
    "for epoch in range(1, 11):\n",
    "    if epoch == 1:\n",
    "        t = threading.Thread(target=get_gpu_info)\n",
    "        t.start()\n",
    "    loss, acc, lin_time, mes_time, aggr_time, up_time, sample_time = train(epoch)\n",
    "\n",
    "    lin_times.append(lin_time)\n",
    "    mes_times.append(mes_time)\n",
    "    aggr_times.append(aggr_time)\n",
    "    up_times.append(up_time)\n",
    "    sample_times.append(sample_time)\n",
    "\n",
    "    print(f'Epoch {epoch:02d}, Loss: {loss:.4f}, Approx. Train: {acc:.4f}')\n",
    "\n",
    "    train_acc, val_acc, test_acc = test()\n",
    "    print(f'Train: {train_acc:.4f}, Val: {val_acc:.4f}, '\n",
    "          f'Test: {test_acc:.4f}')\n",
    "t_status = False\n",
    "t.join()\n",
    "print(\"Average linear time:\", 1000 * np.mean(lin_times), 'ms')\n",
    "print(\"Average message time:\", 1000 * np.mean(mes_times), 'ms')\n",
    "print(\"Average aggregate time:\", 1000 * np.mean(aggr_times), 'ms')\n",
    "print(\"Average update time:\", 1000 * np.mean(up_times), 'ms')\n",
    "print(\"Average sample time:\", (1000 * np.mean(sample_times) + init_sample_time), 'ms')\n",
    "print(\"========================================================\")\n",
    "print(f\"GPU 显存占用: {np.mean(group_gpu_mem_use)}Mb\")\n",
    "print(f\"GPU 显存占用率: {np.mean(group_gpu_mem_use) * 100 / total_gpu_mem}%\")\n",
    "print(f\"GPU 平均使用率: {np.mean(group_gpu_util) - start_gpu_util}%\")\n",
    "tmp_ = sum(np.where(np.array(group_gpu_util) - start_gpu_util > 1, True, False))\n",
    "print(f\"GPU 空闲率: {(len(group_gpu_util) - tmp_) * 100 / len(group_gpu_util)}%\")\n",
    "print(f'内存使用：{np.mean(group_mem_rss) / 1024 / 1024 / 1024:.4f} GB')\n",
    "print(f'磁盘IO使用：{np.mean(group_disk_usage) / 1024 / 1024 / 1024:.4f} GB/s')\n",
    "print(f'磁盘IO使用率：{np.mean(group_disk_usage) * 100 / disk_total:.4f}%')\n",
    "print(f'cpu iowait：{np.mean(group_iowait)}')"
   ]
  },
  {
   "cell_type": "code",
   "execution_count": null,
   "id": "6c6262ae",
   "metadata": {},
   "outputs": [],
   "source": []
  }
 ],
 "metadata": {
  "kernelspec": {
   "display_name": "Python 3 (ipykernel)",
   "language": "python",
   "name": "python3"
  },
  "language_info": {
   "codemirror_mode": {
    "name": "ipython",
    "version": 3
   },
   "file_extension": ".py",
   "mimetype": "text/x-python",
   "name": "python",
   "nbconvert_exporter": "python",
   "pygments_lexer": "ipython3",
   "version": "3.8.12"
  }
 },
 "nbformat": 4,
 "nbformat_minor": 5
}
